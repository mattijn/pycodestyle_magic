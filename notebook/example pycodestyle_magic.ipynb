{
 "cells": [
  {
   "cell_type": "code",
   "execution_count": 1,
   "metadata": {},
   "outputs": [],
   "source": [
    "%load_ext pycodestyle_magic"
   ]
  },
  {
   "cell_type": "code",
   "execution_count": 2,
   "metadata": {},
   "outputs": [],
   "source": [
    "%pycodestyle_on "
   ]
  },
  {
   "cell_type": "code",
   "execution_count": 3,
   "metadata": {},
   "outputs": [
    {
     "name": "stderr",
     "output_type": "stream",
     "text": [
      "2:2: E225 missing whitespace around operator\n"
     ]
    }
   ],
   "source": [
    "# BAD\n",
    "a=1"
   ]
  },
  {
   "cell_type": "code",
   "execution_count": 4,
   "metadata": {},
   "outputs": [
    {
     "name": "stderr",
     "output_type": "stream",
     "text": [
      "3:4: E111 indentation is not a multiple of four\n"
     ]
    }
   ],
   "source": [
    "# BAD\n",
    "if True:\n",
    "   n_space = 3"
   ]
  },
  {
   "cell_type": "code",
   "execution_count": 5,
   "metadata": {},
   "outputs": [],
   "source": [
    "# GOOD\n",
    "if True:\n",
    "    n_space = 4"
   ]
  },
  {
   "cell_type": "code",
   "execution_count": 6,
   "metadata": {},
   "outputs": [
    {
     "name": "stderr",
     "output_type": "stream",
     "text": [
      "6:1: E731 do not assign a lambda expression, use a def\n",
      "6:80: E501 line too long (118 > 79 characters)\n"
     ]
    }
   ],
   "source": [
    "# BAD\n",
    "# longer than 79 characters\n",
    "# possible divison error\n",
    "import math\n",
    "\n",
    "minkowski_distance_3d_from_origin = lambda x, y, z, p: math.pow(math.pow(x, p) + math.pow(x, p) + math.pow(x, p), 1/p)"
   ]
  },
  {
   "cell_type": "code",
   "execution_count": 7,
   "metadata": {},
   "outputs": [],
   "source": [
    "%pycodestyle_off"
   ]
  },
  {
   "cell_type": "code",
   "execution_count": 8,
   "metadata": {},
   "outputs": [],
   "source": [
    "# BAD\n",
    "if True:\n",
    "   n_space = 3"
   ]
  },
  {
   "cell_type": "code",
   "execution_count": null,
   "metadata": {},
   "outputs": [],
   "source": [
    "# BAD\n",
    "# Aligned with 4 spaces\n",
    "foo = function(var_one, var_two,\n",
    "    var_three, var_four)"
   ]
  },
  {
   "cell_type": "code",
   "execution_count": null,
   "metadata": {},
   "outputs": [],
   "source": [
    "# GOOD\n",
    "# Aligned with opening parenthesis\n",
    "foo = function(var_one, var_two,\n",
    "               var_three, var_four)"
   ]
  },
  {
   "cell_type": "code",
   "execution_count": null,
   "metadata": {},
   "outputs": [],
   "source": [
    "# GOOD\n",
    "# Shorter than 79\n",
    "# Use scipy, numpy\n",
    "import scipy.spatial\n",
    "import numpy as np\n",
    "\n",
    "\n",
    "def minkowski_distance_3d_from_origin(x, y, z, p):\n",
    "    \"\"\"Compute the minkowski distance for a point\n",
    "    in 3d space from the origin\"\"\"\n",
    "    u = np.array([x, y, z])\n",
    "    v = np.zeros_like(u)\n",
    "    distance = scipy.spatial.distance.minkowski(u, v, p)\n",
    "    return distance"
   ]
  },
  {
   "cell_type": "code",
   "execution_count": null,
   "metadata": {},
   "outputs": [],
   "source": [
    "# BAD\n",
    "import numpy as np\n",
    "class Calculator:\n",
    "    def Plus(self, x, y):\n",
    "        return np.sum(x, y)\n",
    "    def Minus(self, x, y):\n",
    "        return np.sum(x, -y)"
   ]
  },
  {
   "cell_type": "code",
   "execution_count": null,
   "metadata": {},
   "outputs": [],
   "source": [
    "# GOOD\n",
    "import numpy as np\n",
    "\n",
    "\n",
    "class Calculator:\n",
    "    def add(self, x, y):\n",
    "        return np.sum(x, y)\n",
    "\n",
    "    def subtract(self, x, y):\n",
    "        return np.subtract(x, y)"
   ]
  },
  {
   "cell_type": "code",
   "execution_count": null,
   "metadata": {},
   "outputs": [],
   "source": [
    "# BAD\n",
    "import numpy, scipy, io, os"
   ]
  },
  {
   "cell_type": "code",
   "execution_count": null,
   "metadata": {},
   "outputs": [],
   "source": [
    "# GOOD\n",
    "# python packages first\n",
    "import os\n",
    "import io\n",
    "\n",
    "# extra packages\n",
    "import numpy\n",
    "import scipy\n",
    "\n",
    "# import own packages"
   ]
  },
  {
   "cell_type": "code",
   "execution_count": null,
   "metadata": {},
   "outputs": [],
   "source": [
    "# GOOD\n",
    "from ctypes import (c_void_p, c_int,\n",
    "                    c_double, c_char_p,\n",
    "                    cdll, windll)"
   ]
  },
  {
   "cell_type": "code",
   "execution_count": null,
   "metadata": {},
   "outputs": [],
   "source": [
    "# BAD\n",
    "a=x+1\n",
    "   a = x + 1\n",
    "   b = a\n",
    "name = c"
   ]
  },
  {
   "cell_type": "code",
   "execution_count": null,
   "metadata": {},
   "outputs": [],
   "source": [
    "# GOOD\n",
    "a = x + 1\n",
    "a = x + 1\n",
    "b = a\n",
    "name = c"
   ]
  },
  {
   "cell_type": "code",
   "execution_count": null,
   "metadata": {},
   "outputs": [],
   "source": [
    "# BAD\n",
    "def complex(real, imag = 0.0):\n",
    "    return magic(r = real, i = imag)"
   ]
  },
  {
   "cell_type": "code",
   "execution_count": null,
   "metadata": {},
   "outputs": [],
   "source": [
    "\n",
    "\n",
    "# GOOD\n",
    "def complex(real, imag=0.0):\n",
    "    return magic(r=real, i=imag)"
   ]
  },
  {
   "cell_type": "code",
   "execution_count": null,
   "metadata": {},
   "outputs": [],
   "source": [
    "# BAD\n",
    "a, b, c = 0, 0, 0\n",
    "a += 1; b += 2; c += 3"
   ]
  },
  {
   "cell_type": "code",
   "execution_count": null,
   "metadata": {},
   "outputs": [],
   "source": [
    "# GOOD\n",
    "a = b = c = 0\n",
    "a += 1\n",
    "b += 2\n",
    "c += 3"
   ]
  },
  {
   "cell_type": "code",
   "execution_count": null,
   "metadata": {},
   "outputs": [],
   "source": [
    "# BAD\n",
    "def jarekenmaar():\n",
    "    # This comment is in Dutch\n",
    "    # deze functie rekent, je weet toch\n",
    "    # dus reken maar uit.\n",
    "    1 + 1"
   ]
  },
  {
   "cell_type": "code",
   "execution_count": null,
   "metadata": {},
   "outputs": [],
   "source": [
    "\n",
    "\n",
    "# GOOD\n",
    "# English only\n",
    "def calculate():\n",
    "    # do an essential calculation\n",
    "    1 + 1"
   ]
  },
  {
   "cell_type": "code",
   "execution_count": null,
   "metadata": {},
   "outputs": [],
   "source": []
  }
 ],
 "metadata": {
  "kernelspec": {
   "display_name": "Python 3",
   "language": "python",
   "name": "python3"
  },
  "language_info": {
   "codemirror_mode": {
    "name": "ipython",
    "version": 3
   },
   "file_extension": ".py",
   "mimetype": "text/x-python",
   "name": "python",
   "nbconvert_exporter": "python",
   "pygments_lexer": "ipython3",
   "version": "3.7.2"
  }
 },
 "nbformat": 4,
 "nbformat_minor": 4
}
